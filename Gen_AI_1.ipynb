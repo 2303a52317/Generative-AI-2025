{
  "nbformat": 4,
  "nbformat_minor": 0,
  "metadata": {
    "colab": {
      "provenance": [],
      "authorship_tag": "ABX9TyOi52F73i7gzAIxGD0f0z/z",
      "include_colab_link": true
    },
    "kernelspec": {
      "name": "python3",
      "display_name": "Python 3"
    },
    "language_info": {
      "name": "python"
    }
  },
  "cells": [
    {
      "cell_type": "markdown",
      "metadata": {
        "id": "view-in-github",
        "colab_type": "text"
      },
      "source": [
        "<a href=\"https://colab.research.google.com/github/2303a52317/Generative-AI-2025/blob/main/Gen_AI_1.ipynb\" target=\"_parent\"><img src=\"https://colab.research.google.com/assets/colab-badge.svg\" alt=\"Open In Colab\"/></a>"
      ]
    },
    {
      "cell_type": "code",
      "source": [
        "#Question 1"
      ],
      "metadata": {
        "id": "u_KmaiaAJ2WX"
      },
      "execution_count": null,
      "outputs": []
    },
    {
      "cell_type": "code",
      "source": [
        "import numpy as np\n",
        "y_actual=[20,30,40,50,60]\n",
        "y_predict=[20.5,30.3,40.2,50.6,60.7]\n",
        "y_actual=np.array(y_actual)\n",
        "y_predict=np.array(y_predict)\n",
        "\n",
        "absolute_errors = np.abs(y_actual - y_predict)\n",
        "mean_absolute_error = np.mean(absolute_errors)\n",
        "print(\"Mean Absolute Error:\", mean_absolute_error)\n",
        "\n",
        "squared_errors = np.square(y_actual - y_predict)\n",
        "mean_squared_error = np.mean(squared_errors)\n",
        "print(\"Mean Squared Error:\", mean_squared_error)\n",
        "\n",
        "root_mean_squared_error = np.sqrt(mean_squared_error)\n",
        "print(\"Root Mean Squared Error:\", root_mean_squared_error)\n",
        "\n",
        "from sklearn.metrics import mean_absolute_error, mean_squared_error, root_mean_squared_error\n",
        "mae = mean_absolute_error(y_actual, y_predict)\n",
        "mse = mean_squared_error(y_actual, y_predict)\n",
        "rmse = root_mean_squared_error(y_actual, y_predict)\n",
        "print(\"Mean Absolute Error(mae):\", mae)\n",
        "print(\"Mean Squared Error(mse):\", mse)\n",
        "print(\"Root Mean Squared Error(rmse):\", rmse)"
      ],
      "metadata": {
        "colab": {
          "base_uri": "https://localhost:8080/"
        },
        "id": "gcR8hAIaJx7G",
        "outputId": "6fcd8278-f90e-4f54-b3f0-624bd4fe74c3"
      },
      "execution_count": null,
      "outputs": [
        {
          "output_type": "stream",
          "name": "stdout",
          "text": [
            "Mean Absolute Error: 0.4600000000000016\n",
            "Mean Squared Error: 0.24600000000000147\n",
            "Root Mean Squared Error: 0.49598387070549127\n",
            "Mean Absolute Error(mae): 0.4600000000000016\n",
            "Mean Squared Error(mse): 0.24600000000000147\n",
            "Root Mean Squared Error(rmse): 0.49598387070549127\n"
          ]
        }
      ]
    },
    {
      "cell_type": "code",
      "source": [
        "# Question 2\n",
        "import numpy as np\n",
        "from sklearn.metrics import classification_report, accuracy_score, precision_score, recall_score, f1_score\n",
        "Y_actual = np.array([0, 0, 1, 1, 2, 0, 0, 0, 1, 0, 2, 0, 0, 1, 1, 2, 2, 1, 0, 2, 1, 0, 2, 2, 0])\n",
        "Y_pred = np.array([0, 0, 1, 0, 2, 0, 0, 1, 1, 2, 2, 1, 0, 2, 1, 2, 2, 2, 0, 2, 1, 2, 2, 2, 2])\n",
        "\n",
        "# From scratch\n",
        "accuracy_scratch = sum(Y_actual == Y_pred) / len(Y_actual)\n",
        "\n",
        "# Per-class metrics\n",
        "classes = set(Y_actual)\n",
        "precision_scratch = []\n",
        "recall_scratch = []\n",
        "f1_scratch = []\n",
        "\n",
        "for cls in classes:\n",
        "    tp = sum((Y_actual == cls) & (Y_pred == cls))  # True positives\n",
        "    fp = sum((Y_actual != cls) & (Y_pred == cls))  # False positives\n",
        "    fn = sum((Y_actual == cls) & (Y_pred != cls))  # False negatives\n",
        "\n",
        "    precision = tp / (tp + fp) if tp + fp > 0 else 0\n",
        "    recall = tp / (tp + fn) if tp + fn > 0 else 0\n",
        "    f1 = 2 * precision * recall / (precision + recall) if precision + recall > 0 else 0\n",
        "\n",
        "    precision_scratch.append(precision)\n",
        "    recall_scratch.append(recall)\n",
        "    f1_scratch.append(f1)\n",
        "\n",
        "# Average metrics\n",
        "precision_macro = sum(precision_scratch) / len(classes)\n",
        "recall_macro = sum(recall_scratch) / len(classes)\n",
        "f1_macro = sum(f1_scratch) / len(classes)\n",
        "\n",
        "# Using libraries\n",
        "accuracy_library = accuracy_score(Y_actual, Y_pred)\n",
        "precision_library = precision_score(Y_actual, Y_pred, average='macro')\n",
        "recall_library = recall_score(Y_actual, Y_pred, average='macro')\n",
        "f1_library = f1_score(Y_actual, Y_pred, average='macro')\n",
        "\n",
        "# Display results\n",
        "print(\"Evaluation Metrics from Scratch:\")\n",
        "print(f\"Accuracy: {accuracy_scratch}\")\n",
        "print(f\"Precision: {precision_macro}\")\n",
        "print(f\"Recall: {recall_macro}\")\n",
        "print(f\"F1-Score: {f1_macro}\")\n",
        "\n",
        "print(\"\\nEvaluation Metrics from Libraries:\")\n",
        "print(f\"Accuracy: {accuracy_library}\")\n",
        "print(f\"Precision: {precision_library}\")\n",
        "print(f\"Recall: {recall_library}\")\n",
        "print(f\"F1-Score: {f1_library}\")"
      ],
      "metadata": {
        "id": "CPsBqXqYKJry",
        "colab": {
          "base_uri": "https://localhost:8080/"
        },
        "outputId": "377a89fb-d99a-4d43-cd78-f48cd6acb27f"
      },
      "execution_count": 3,
      "outputs": [
        {
          "output_type": "stream",
          "name": "stdout",
          "text": [
            "Evaluation Metrics from Scratch:\n",
            "Accuracy: 0.68\n",
            "Precision: 0.7023809523809524\n",
            "Recall: 0.7056277056277057\n",
            "F1-Score: 0.6729644624381467\n",
            "\n",
            "Evaluation Metrics from Libraries:\n",
            "Accuracy: 0.68\n",
            "Precision: 0.7023809523809524\n",
            "Recall: 0.7056277056277057\n",
            "F1-Score: 0.6729644624381467\n"
          ]
        }
      ]
    }
  ]
}